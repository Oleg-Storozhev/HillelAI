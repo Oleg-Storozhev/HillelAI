{
 "cells": [
  {
   "cell_type": "raw",
   "metadata": {
    "collapsed": true,
    "pycharm": {
     "name": "#%% raw\n"
    }
   },
   "source": [
    "Задание:\n",
    "\n",
    "1) Использовать предобработку датасета из прошлого домашнего задания.\n",
    "\n",
    "2) Кластеризовать данные при помощи KMeans.\n",
    "\n",
    "3) Найти оптимальное количество кластеров\n",
    "\n",
    "4) Посчитать Silhouette index\n",
    "\n",
    "5) Кластеризовать данные при помощи DBSCAN\n",
    "\n",
    "6) Проанализировать средние значения признаков в кластерах, что вы можете о них сказать?\n",
    "\n",
    "7) Сравнить принадлежность конкретной записи к кластеру и удалённую целевую колонку isFraud.\n",
    "\n",
    "8) Сравните по метрике AUC какой подход лучше - из прошлой работы, или из этой (supervised vs unsupervised)\n",
    "\n",
    "Опционально:\n",
    "\n",
    "Можно ли визуализировать полученные кластеры? (Подсказка: возможно нужно использовать методы понижения размерности, или уже готовые библиотеки)"
   ]
  },
  {
   "cell_type": "code",
   "execution_count": null,
   "outputs": [],
   "source": [
    "import numpy as np\n",
    "import pandas as pd\n",
    "import matplotlib.pyplot as plt\n",
    "import seaborn as sns\n",
    "import plotly.express as px\n",
    "import missingno as msno\n",
    "\n",
    "from sklearn.impute import MissingIndicator\n",
    "from sklearn.metrics import confusion_matrix\n",
    "from sklearn.metrics import silhouette_score\n",
    "from sklearn.metrics import roc_auc_score\n",
    "from sklearn.cluster import KMeans\n",
    "from sklearn.decomposition import PCA\n",
    "from sklearn.preprocessing import LabelEncoder\n",
    "from sklearn.preprocessing import MinMaxScaler\n",
    "from mpl_toolkits.mplot3d import Axes3D\n",
    "\n",
    "\n",
    "sns.set(rc={'figure.figsize':(10, 8)})"
   ],
   "metadata": {
    "collapsed": false,
    "pycharm": {
     "name": "#%%\n"
    }
   }
  },
  {
   "cell_type": "code",
   "execution_count": null,
   "outputs": [],
   "source": [
    "df1 = pd.read_csv('/content/drive/MyDrive/ML/identity_small.csv', sep =',')\n",
    "df2 = pd.read_csv('/content/drive/MyDrive/ML/trans_small.csv', sep =',')\n",
    "df = df2.set_index('TransactionID').join(df1.set_index('TransactionID'))\n",
    "df"
   ],
   "metadata": {
    "collapsed": false,
    "pycharm": {
     "name": "#%%\n"
    }
   }
  }
 ],
 "metadata": {
  "kernelspec": {
   "display_name": "Python 3",
   "language": "python",
   "name": "python3"
  },
  "language_info": {
   "codemirror_mode": {
    "name": "ipython",
    "version": 2
   },
   "file_extension": ".py",
   "mimetype": "text/x-python",
   "name": "python",
   "nbconvert_exporter": "python",
   "pygments_lexer": "ipython2",
   "version": "2.7.6"
  }
 },
 "nbformat": 4,
 "nbformat_minor": 0
}