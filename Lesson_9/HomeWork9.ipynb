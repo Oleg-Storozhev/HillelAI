{
 "cells": [
  {
   "cell_type": "code",
   "execution_count": 1,
   "id": "c45f9c0b-b041-44f3-bcac-454371dcfedb",
   "metadata": {},
   "outputs": [],
   "source": [
    "import numpy as np\n",
    "import pandas as pd\n",
    "import matplotlib.pyplot as plt\n",
    "import seaborn as sns\n",
    "from scipy.stats import linregress\n",
    "sns.set(rc={'figure.figsize':(10, 8)})"
   ]
  },
  {
   "cell_type": "code",
   "execution_count": 2,
   "id": "dccf1fe4-a857-4f74-b979-a8f1b1ab711f",
   "metadata": {},
   "outputs": [
    {
     "data": {
      "text/html": [
       "<div>\n",
       "<style scoped>\n",
       "    .dataframe tbody tr th:only-of-type {\n",
       "        vertical-align: middle;\n",
       "    }\n",
       "\n",
       "    .dataframe tbody tr th {\n",
       "        vertical-align: top;\n",
       "    }\n",
       "\n",
       "    .dataframe thead th {\n",
       "        text-align: right;\n",
       "    }\n",
       "</style>\n",
       "<table border=\"1\" class=\"dataframe\">\n",
       "  <thead>\n",
       "    <tr style=\"text-align: right;\">\n",
       "      <th></th>\n",
       "      <th>history</th>\n",
       "      <th>term</th>\n",
       "      <th>income</th>\n",
       "      <th>risk</th>\n",
       "    </tr>\n",
       "  </thead>\n",
       "  <tbody>\n",
       "    <tr>\n",
       "      <th>0</th>\n",
       "      <td>excellent</td>\n",
       "      <td>3</td>\n",
       "      <td>high</td>\n",
       "      <td>low</td>\n",
       "    </tr>\n",
       "    <tr>\n",
       "      <th>1</th>\n",
       "      <td>fair</td>\n",
       "      <td>10</td>\n",
       "      <td>low</td>\n",
       "      <td>high</td>\n",
       "    </tr>\n",
       "    <tr>\n",
       "      <th>2</th>\n",
       "      <td>fair</td>\n",
       "      <td>3</td>\n",
       "      <td>high</td>\n",
       "      <td>low</td>\n",
       "    </tr>\n",
       "    <tr>\n",
       "      <th>3</th>\n",
       "      <td>bad</td>\n",
       "      <td>10</td>\n",
       "      <td>high</td>\n",
       "      <td>high</td>\n",
       "    </tr>\n",
       "    <tr>\n",
       "      <th>4</th>\n",
       "      <td>excellent</td>\n",
       "      <td>3</td>\n",
       "      <td>low</td>\n",
       "      <td>low</td>\n",
       "    </tr>\n",
       "    <tr>\n",
       "      <th>5</th>\n",
       "      <td>fair</td>\n",
       "      <td>10</td>\n",
       "      <td>high</td>\n",
       "      <td>low</td>\n",
       "    </tr>\n",
       "    <tr>\n",
       "      <th>6</th>\n",
       "      <td>bad</td>\n",
       "      <td>3</td>\n",
       "      <td>high</td>\n",
       "      <td>low</td>\n",
       "    </tr>\n",
       "    <tr>\n",
       "      <th>7</th>\n",
       "      <td>bad</td>\n",
       "      <td>10</td>\n",
       "      <td>low</td>\n",
       "      <td>high</td>\n",
       "    </tr>\n",
       "    <tr>\n",
       "      <th>8</th>\n",
       "      <td>excellent</td>\n",
       "      <td>10</td>\n",
       "      <td>low</td>\n",
       "      <td>low</td>\n",
       "    </tr>\n",
       "  </tbody>\n",
       "</table>\n",
       "</div>"
      ],
      "text/plain": [
       "     history  term income  risk\n",
       "0  excellent     3   high   low\n",
       "1       fair    10    low  high\n",
       "2       fair     3   high   low\n",
       "3        bad    10   high  high\n",
       "4  excellent     3    low   low\n",
       "5       fair    10   high   low\n",
       "6        bad     3   high   low\n",
       "7        bad    10    low  high\n",
       "8  excellent    10    low   low"
      ]
     },
     "execution_count": 2,
     "metadata": {},
     "output_type": "execute_result"
    }
   ],
   "source": [
    "df = pd.read_csv('loans.csv', sep =',')\n",
    "df"
   ]
  },
  {
   "cell_type": "markdown",
   "id": "989b95f4-cc39-4429-92c5-97996281c550",
   "metadata": {},
   "source": [
    "    АНАЛИЗ"
   ]
  },
  {
   "cell_type": "code",
   "execution_count": 3,
   "id": "32750fbb-8e1a-411c-b1da-568c55960a4d",
   "metadata": {},
   "outputs": [
    {
     "name": "stdout",
     "output_type": "stream",
     "text": [
      "<class 'pandas.core.frame.DataFrame'>\n",
      "RangeIndex: 9 entries, 0 to 8\n",
      "Data columns (total 4 columns):\n",
      " #   Column   Non-Null Count  Dtype \n",
      "---  ------   --------------  ----- \n",
      " 0   history  9 non-null      object\n",
      " 1   term     9 non-null      int64 \n",
      " 2   income   9 non-null      object\n",
      " 3   risk     9 non-null      object\n",
      "dtypes: int64(1), object(3)\n",
      "memory usage: 416.0+ bytes\n"
     ]
    }
   ],
   "source": [
    "df.info()"
   ]
  },
  {
   "cell_type": "markdown",
   "id": "16563e88-405c-4634-8a7a-52470e753e14",
   "metadata": {},
   "source": [
    "Наш целевой признак - risk. Он является категориальным, поэтому задача классификации."
   ]
  },
  {
   "cell_type": "code",
   "execution_count": 4,
   "id": "983a71d3-f541-4df2-a06b-4d4ec01bc5e8",
   "metadata": {},
   "outputs": [
    {
     "data": {
      "text/html": [
       "<div>\n",
       "<style scoped>\n",
       "    .dataframe tbody tr th:only-of-type {\n",
       "        vertical-align: middle;\n",
       "    }\n",
       "\n",
       "    .dataframe tbody tr th {\n",
       "        vertical-align: top;\n",
       "    }\n",
       "\n",
       "    .dataframe thead th {\n",
       "        text-align: right;\n",
       "    }\n",
       "</style>\n",
       "<table border=\"1\" class=\"dataframe\">\n",
       "  <thead>\n",
       "    <tr style=\"text-align: right;\">\n",
       "      <th></th>\n",
       "      <th>count</th>\n",
       "      <th>unique</th>\n",
       "      <th>top</th>\n",
       "      <th>freq</th>\n",
       "      <th>mean</th>\n",
       "      <th>std</th>\n",
       "      <th>min</th>\n",
       "      <th>25%</th>\n",
       "      <th>50%</th>\n",
       "      <th>75%</th>\n",
       "      <th>max</th>\n",
       "    </tr>\n",
       "  </thead>\n",
       "  <tbody>\n",
       "    <tr>\n",
       "      <th>history</th>\n",
       "      <td>9</td>\n",
       "      <td>3</td>\n",
       "      <td>excellent</td>\n",
       "      <td>3</td>\n",
       "      <td>NaN</td>\n",
       "      <td>NaN</td>\n",
       "      <td>NaN</td>\n",
       "      <td>NaN</td>\n",
       "      <td>NaN</td>\n",
       "      <td>NaN</td>\n",
       "      <td>NaN</td>\n",
       "    </tr>\n",
       "    <tr>\n",
       "      <th>term</th>\n",
       "      <td>9.0</td>\n",
       "      <td>NaN</td>\n",
       "      <td>NaN</td>\n",
       "      <td>NaN</td>\n",
       "      <td>6.888889</td>\n",
       "      <td>3.689324</td>\n",
       "      <td>3.0</td>\n",
       "      <td>3.0</td>\n",
       "      <td>10.0</td>\n",
       "      <td>10.0</td>\n",
       "      <td>10.0</td>\n",
       "    </tr>\n",
       "    <tr>\n",
       "      <th>income</th>\n",
       "      <td>9</td>\n",
       "      <td>2</td>\n",
       "      <td>high</td>\n",
       "      <td>5</td>\n",
       "      <td>NaN</td>\n",
       "      <td>NaN</td>\n",
       "      <td>NaN</td>\n",
       "      <td>NaN</td>\n",
       "      <td>NaN</td>\n",
       "      <td>NaN</td>\n",
       "      <td>NaN</td>\n",
       "    </tr>\n",
       "    <tr>\n",
       "      <th>risk</th>\n",
       "      <td>9</td>\n",
       "      <td>2</td>\n",
       "      <td>low</td>\n",
       "      <td>6</td>\n",
       "      <td>NaN</td>\n",
       "      <td>NaN</td>\n",
       "      <td>NaN</td>\n",
       "      <td>NaN</td>\n",
       "      <td>NaN</td>\n",
       "      <td>NaN</td>\n",
       "      <td>NaN</td>\n",
       "    </tr>\n",
       "  </tbody>\n",
       "</table>\n",
       "</div>"
      ],
      "text/plain": [
       "        count unique        top freq      mean       std  min  25%   50%  \\\n",
       "history     9      3  excellent    3       NaN       NaN  NaN  NaN   NaN   \n",
       "term      9.0    NaN        NaN  NaN  6.888889  3.689324  3.0  3.0  10.0   \n",
       "income      9      2       high    5       NaN       NaN  NaN  NaN   NaN   \n",
       "risk        9      2        low    6       NaN       NaN  NaN  NaN   NaN   \n",
       "\n",
       "          75%   max  \n",
       "history   NaN   NaN  \n",
       "term     10.0  10.0  \n",
       "income    NaN   NaN  \n",
       "risk      NaN   NaN  "
      ]
     },
     "execution_count": 4,
     "metadata": {},
     "output_type": "execute_result"
    }
   ],
   "source": [
    "df.describe(include='all').T"
   ]
  },
  {
   "cell_type": "markdown",
   "id": "0fc4fca8-708b-413a-8728-e98b36f84870",
   "metadata": {},
   "source": [
    "    ПРЕДОБРАБОТКА"
   ]
  },
  {
   "cell_type": "markdown",
   "id": "695ee5de-dddc-415a-849e-89ed179ef5d1",
   "metadata": {},
   "source": [
    "Перед тем как работать с признаками и обучать нашу программу, переведём все категориальные данные в числовые для дальнейшей работы."
   ]
  },
  {
   "cell_type": "code",
   "execution_count": 5,
   "id": "0758b864-26fd-45d6-a7bc-2fe8c50a208b",
   "metadata": {},
   "outputs": [
    {
     "data": {
      "text/html": [
       "<div>\n",
       "<style scoped>\n",
       "    .dataframe tbody tr th:only-of-type {\n",
       "        vertical-align: middle;\n",
       "    }\n",
       "\n",
       "    .dataframe tbody tr th {\n",
       "        vertical-align: top;\n",
       "    }\n",
       "\n",
       "    .dataframe thead th {\n",
       "        text-align: right;\n",
       "    }\n",
       "</style>\n",
       "<table border=\"1\" class=\"dataframe\">\n",
       "  <thead>\n",
       "    <tr style=\"text-align: right;\">\n",
       "      <th></th>\n",
       "      <th>history</th>\n",
       "      <th>term</th>\n",
       "      <th>income</th>\n",
       "      <th>risk</th>\n",
       "    </tr>\n",
       "  </thead>\n",
       "  <tbody>\n",
       "    <tr>\n",
       "      <th>0</th>\n",
       "      <td>1</td>\n",
       "      <td>3</td>\n",
       "      <td>1</td>\n",
       "      <td>1</td>\n",
       "    </tr>\n",
       "    <tr>\n",
       "      <th>1</th>\n",
       "      <td>2</td>\n",
       "      <td>10</td>\n",
       "      <td>2</td>\n",
       "      <td>2</td>\n",
       "    </tr>\n",
       "    <tr>\n",
       "      <th>2</th>\n",
       "      <td>2</td>\n",
       "      <td>3</td>\n",
       "      <td>1</td>\n",
       "      <td>1</td>\n",
       "    </tr>\n",
       "    <tr>\n",
       "      <th>3</th>\n",
       "      <td>3</td>\n",
       "      <td>10</td>\n",
       "      <td>1</td>\n",
       "      <td>2</td>\n",
       "    </tr>\n",
       "    <tr>\n",
       "      <th>4</th>\n",
       "      <td>1</td>\n",
       "      <td>3</td>\n",
       "      <td>2</td>\n",
       "      <td>1</td>\n",
       "    </tr>\n",
       "    <tr>\n",
       "      <th>5</th>\n",
       "      <td>2</td>\n",
       "      <td>10</td>\n",
       "      <td>1</td>\n",
       "      <td>1</td>\n",
       "    </tr>\n",
       "    <tr>\n",
       "      <th>6</th>\n",
       "      <td>3</td>\n",
       "      <td>3</td>\n",
       "      <td>1</td>\n",
       "      <td>1</td>\n",
       "    </tr>\n",
       "    <tr>\n",
       "      <th>7</th>\n",
       "      <td>3</td>\n",
       "      <td>10</td>\n",
       "      <td>2</td>\n",
       "      <td>2</td>\n",
       "    </tr>\n",
       "    <tr>\n",
       "      <th>8</th>\n",
       "      <td>1</td>\n",
       "      <td>10</td>\n",
       "      <td>2</td>\n",
       "      <td>1</td>\n",
       "    </tr>\n",
       "  </tbody>\n",
       "</table>\n",
       "</div>"
      ],
      "text/plain": [
       "   history  term  income  risk\n",
       "0        1     3       1     1\n",
       "1        2    10       2     2\n",
       "2        2     3       1     1\n",
       "3        3    10       1     2\n",
       "4        1     3       2     1\n",
       "5        2    10       1     1\n",
       "6        3     3       1     1\n",
       "7        3    10       2     2\n",
       "8        1    10       2     1"
      ]
     },
     "execution_count": 5,
     "metadata": {},
     "output_type": "execute_result"
    }
   ],
   "source": [
    "cols = ['history', 'income', 'risk']\n",
    "df[cols] = df[cols].apply(lambda x: pd.factorize(x)[0] + 1)\n",
    "\n",
    "df"
   ]
  },
  {
   "cell_type": "markdown",
   "id": "c8bd34c0-f7b5-4f42-878b-fed7366d8f0a",
   "metadata": {},
   "source": [
    "Далее по старой схеме - делим датасет на целевой признак и признаки для обучения"
   ]
  },
  {
   "cell_type": "code",
   "execution_count": 6,
   "id": "be7d16fa-5da7-4910-8976-bdfe98aabdff",
   "metadata": {},
   "outputs": [],
   "source": [
    "X = df.drop(columns = ['risk'])\n",
    "y = df.risk"
   ]
  },
  {
   "cell_type": "markdown",
   "id": "3fd62dc1-aeb1-4b97-844f-35052b396af5",
   "metadata": {},
   "source": [
    "Теперь разделим эти признаки для тренировки и теста"
   ]
  },
  {
   "cell_type": "code",
   "execution_count": 7,
   "id": "1e1398ef-dd7b-43af-b15b-21e7890c1223",
   "metadata": {},
   "outputs": [],
   "source": [
    "from sklearn.model_selection import train_test_split\n",
    "\n",
    "X_train, X_test, y_train, y_test = train_test_split(X, y, test_size=0.25, random_state=42)"
   ]
  },
  {
   "cell_type": "markdown",
   "id": "a3f852e7-1d6e-4b2e-bf65-4537c75c73d6",
   "metadata": {},
   "source": [
    "    ДЕРЕВО РЕШЕНИЙ"
   ]
  },
  {
   "cell_type": "markdown",
   "id": "b88f46ae-9dc0-47a4-98f3-c339286e4a9e",
   "metadata": {},
   "source": [
    "Строим дерево решений с помощью DecisionTreeClassifier, так как у нас задача классификации, пока без гипперпараметров, для метрики я выбрал ROC_AUC"
   ]
  },
  {
   "cell_type": "code",
   "execution_count": 8,
   "id": "b378d299-5d73-4260-9c2a-9c4cb42a10cd",
   "metadata": {},
   "outputs": [
    {
     "data": {
      "text/plain": [
       "0.75"
      ]
     },
     "execution_count": 8,
     "metadata": {},
     "output_type": "execute_result"
    }
   ],
   "source": [
    "from sklearn.tree import DecisionTreeClassifier\n",
    "from sklearn.metrics import roc_auc_score\n",
    "\n",
    "tree = DecisionTreeClassifier()\n",
    "tree.fit(X_train, y_train)\n",
    "y_pred = tree.predict(X_test)\n",
    "roc_auc_score(y_test, y_pred)"
   ]
  },
  {
   "cell_type": "markdown",
   "id": "ea084861-db63-41a3-8ca7-142921ad1e05",
   "metadata": {},
   "source": [
    "    ВЫБОР МЕТРИКИ"
   ]
  },
  {
   "cell_type": "markdown",
   "id": "a3bfc423-8cb7-4daf-ac20-d8d4acd513cf",
   "metadata": {},
   "source": [
    "Теперь выберем метрику для дальнейшей работы. Для этого воспользуемся кросс валидацией"
   ]
  },
  {
   "cell_type": "code",
   "execution_count": 39,
   "id": "a392f123-89ee-47a7-bce4-1b0c994e779f",
   "metadata": {},
   "outputs": [
    {
     "name": "stdout",
     "output_type": "stream",
     "text": [
      "Accurancy\n",
      "Массив значений метрики: [0.5 0.5 0.5 0.5 0. ]\n",
      "Средняя метрика на кросс-валидации: 0.4\n",
      "BRIER SCORE LOSS\n",
      "Массив значений метрики: [-0.5 -0.5 -0.5 -0.5 -0. ]\n",
      "Средняя метрика на кросс-валидации: -0.4\n"
     ]
    }
   ],
   "source": [
    "from sklearn.model_selection import KFold\n",
    "from sklearn.model_selection import cross_val_score\n",
    "\n",
    "kf = KFold(n_splits=5, shuffle=True, random_state=42)\n",
    "tree = DecisionTreeClassifier()\n",
    "\n",
    "scores = cross_val_score(tree, X, y, cv=kf, scoring='accuracy')\n",
    "print(\"Accurancy\")\n",
    "print('Массив значений метрики:', scores)\n",
    "print('Средняя метрика на кросс-валидации:', np.mean(scores))\n",
    "\n",
    "scores = cross_val_score(tree, X, y, cv=kf, scoring='neg_brier_score')\n",
    "print(\"BRIER SCORE LOSS\")\n",
    "print('Массив значений метрики:', scores)\n",
    "print('Средняя метрика на кросс-валидации:', np.mean(scores))\n",
    "\n",
    "# Плохо работает из-за того что датасет маленький и иногда может давать только 1 класс для теста, из-за чего, вместо результата, дает nan\n",
    "\n",
    "# scores = cross_val_score(tree, X, y, cv=kf, scoring='roc_auc')\n",
    "# print(\"ROC AUC\")\n",
    "# print('Массив значений метрики:', scores)\n",
    "# print('Средняя метрика на кросс-валидации:', np.mean(scores))"
   ]
  },
  {
   "cell_type": "markdown",
   "id": "bec3825c-6f98-4364-843b-42438b6c6bb3",
   "metadata": {},
   "source": [
    "    ПОДБОР ГИПЕРПАРАМЕТРОВ"
   ]
  },
  {
   "cell_type": "markdown",
   "id": "515c9deb-9af0-4968-a74b-0e52a26e5583",
   "metadata": {},
   "source": [
    "Для подбора гиперпараметров воспользуемся GridSearchCV."
   ]
  },
  {
   "cell_type": "code",
   "execution_count": 10,
   "id": "886ffa40-6d05-4f56-9409-19a1ae93f28b",
   "metadata": {},
   "outputs": [
    {
     "name": "stdout",
     "output_type": "stream",
     "text": [
      "Найлучшее качество модели при {'max_depth': 2, 'max_features': 2, 'min_samples_leaf': 2, 'min_samples_split': 2}\n",
      "Наилучшая оценка качества модели: 0.8\n"
     ]
    }
   ],
   "source": [
    "from sklearn.model_selection import GridSearchCV\n",
    "\n",
    "tree = DecisionTreeClassifier()\n",
    "tree_params={'max_depth': np.arange(2, 11), 'min_samples_split': np.arange(2,21), 'min_samples_leaf': np.arange(2,11), 'max_features': np.arange(2,4)} # словарь параметров (ключ: набор возможных значений)\n",
    "\n",
    "tree_grid = GridSearchCV(tree, tree_params, cv=kf, scoring='accuracy', n_jobs = -1)\n",
    "tree_grid.fit(X_train, y_train)\n",
    "print(\"Найлучшее качество модели при\", tree_grid.best_params_)\n",
    "print(\"Наилучшая оценка качества модели:\", tree_grid.best_score_)"
   ]
  },
  {
   "cell_type": "markdown",
   "id": "ff840968-56e4-4702-a485-30360874bb7d",
   "metadata": {},
   "source": [
    "    АНАЛИЗ ПОЛУЧЕННОГО ДЕРЕВА"
   ]
  },
  {
   "cell_type": "markdown",
   "id": "a194e97d-ef71-4120-bd80-571a6c4594b6",
   "metadata": {},
   "source": [
    "После того как мы подобрали гиперпараметры постоим по ним дерево и проанализируем его."
   ]
  },
  {
   "cell_type": "code",
   "execution_count": 11,
   "id": "710ceecc-b604-4180-ba3d-c28d5e3d5180",
   "metadata": {},
   "outputs": [
    {
     "name": "stdout",
     "output_type": "stream",
     "text": [
      "digraph Tree {\n",
      "node [shape=box, fontname=\"helvetica\"] ;\n",
      "edge [fontname=\"helvetica\"] ;\n",
      "0 [label=\"history <= 2.5\\ngini = 0.278\\nsamples = 6\\nvalue = [5, 1]\"] ;\n",
      "1 [label=\"gini = 0.0\\nsamples = 4\\nvalue = [4, 0]\"] ;\n",
      "0 -> 1 [labeldistance=2.5, labelangle=45, headlabel=\"True\"] ;\n",
      "2 [label=\"gini = 0.5\\nsamples = 2\\nvalue = [1, 1]\"] ;\n",
      "0 -> 2 [labeldistance=2.5, labelangle=-45, headlabel=\"False\"] ;\n",
      "}\n"
     ]
    }
   ],
   "source": [
    "from sklearn.tree import export_graphviz\n",
    "\n",
    "tree = DecisionTreeClassifier(max_depth= 2, min_samples_split= 2, min_samples_leaf= 2, max_features= 2)\n",
    "tree.fit(X_train, y_train)\n",
    "\n",
    "export_graphviz(tree, out_file='tree.dot', feature_names=X.columns)\n",
    "print(open('tree.dot').read())"
   ]
  },
  {
   "cell_type": "markdown",
   "id": "3986df68-73ca-4589-8061-df52ef67b65f",
   "metadata": {},
   "source": [
    "![](https://dreampuf.github.io/GraphvizOnline/#digraph%20Tree%20%7B%0Anode%20%5Bshape%3Dbox%2C%20fontname%3D%22helvetica%22%5D%20%3B%0Aedge%20%5Bfontname%3D%22helvetica%22%5D%20%3B%0A0%20%5Blabel%3D%22history%20%3C%3D%202.5%5Cngini%20%3D%200.278%5Cnsamples%20%3D%206%5Cnvalue%20%3D%20%5B5%2C%201%5D%22%5D%20%3B%0A1%20%5Blabel%3D%22gini%20%3D%200.0%5Cnsamples%20%3D%204%5Cnvalue%20%3D%20%5B4%2C%200%5D%22%5D%20%3B%0A0%20-%3E%201%20%5Blabeldistance%3D2.5%2C%20labelangle%3D45%2C%20headlabel%3D%22True%22%5D%20%3B%0A2%20%5Blabel%3D%22gini%20%3D%200.5%5Cnsamples%20%3D%202%5Cnvalue%20%3D%20%5B1%2C%201%5D%22%5D%20%3B%0A0%20-%3E%202%20%5Blabeldistance%3D2.5%2C%20labelangle%3D-45%2C%20headlabel%3D%22False%22%5D%20%3B%0A%7D)"
   ]
  },
  {
   "cell_type": "code",
   "execution_count": 17,
   "id": "e4ed9842-1fbf-4937-9e54-521070d9abc8",
   "metadata": {},
   "outputs": [
    {
     "name": "stdout",
     "output_type": "stream",
     "text": [
      "Feature ranking:\n",
      "1 history 1.0\n",
      "2 income 0.0\n",
      "3 term 0.0\n"
     ]
    }
   ],
   "source": [
    "features = {'f' + str(i + 1):name for (i, name) in zip(range(len(df.columns)), df.columns)}\n",
    "importances = tree.feature_importances_\n",
    "\n",
    "indices = np.argsort(importances)[:: -1]\n",
    "num_to_plot = 3\n",
    "feature_indices = [ind + 1 for ind in indices[:num_to_plot]]\n",
    "\n",
    "print(\"Feature ranking:\")\n",
    "for f in range(num_to_plot):\n",
    "    print(f + 1, features[\"f\" + str(feature_indices[f])], importances[indices[f]])"
   ]
  },
  {
   "cell_type": "code",
   "execution_count": 18,
   "id": "f5c2507a-fc18-4ecb-b05a-f9afc4d895ad",
   "metadata": {},
   "outputs": [
    {
     "data": {
      "image/png": "[encoded data removed]",
      "text/plain": [
       "<Figure size 1080x360 with 1 Axes>"
      ]
     },
     "metadata": {},
     "output_type": "display_data"
    }
   ],
   "source": [
    "plt.figure(figsize=(15,5))\n",
    "plt.title(\"Feature importances\")\n",
    "bars = plt.bar(range(num_to_plot), \n",
    "               importances[indices[:num_to_plot]],\n",
    "               color=([str(i / float(num_to_plot +  1)) for i in range(num_to_plot)]),\n",
    "               align=\"center\")\n",
    "ticks = plt.xticks(range(num_to_plot), \n",
    "                   feature_indices)\n",
    "plt.xlim([-1, num_to_plot])\n",
    "plt.legend(bars, [u''.join(features[\"f\" + str(i)]) for i in feature_indices]);"
   ]
  },
  {
   "cell_type": "markdown",
   "id": "192aeefb-c8be-4cd6-8138-8031e2bf2666",
   "metadata": {},
   "source": [
    "    РАНДОМНЫЙ ЛЕС"
   ]
  },
  {
   "cell_type": "code",
   "execution_count": 19,
   "id": "0f1436ec-1079-4f6a-844b-9a4e2fe358cb",
   "metadata": {},
   "outputs": [],
   "source": [
    "from sklearn.ensemble import RandomForestClassifier\n",
    "\n",
    "rc = RandomForestClassifier(random_state=42)\n",
    "rc.fit(X_train, y_train)\n",
    "y_pred = rc.predict(X_test)"
   ]
  },
  {
   "cell_type": "code",
   "execution_count": 20,
   "id": "af9e1251",
   "metadata": {
    "collapsed": false,
    "jupyter": {
     "outputs_hidden": false
    },
    "pycharm": {
     "name": "#%%\n"
    }
   },
   "outputs": [
    {
     "data": {
      "text/plain": [
       "0.3333333333333333"
      ]
     },
     "execution_count": 20,
     "metadata": {},
     "output_type": "execute_result"
    }
   ],
   "source": [
    "from sklearn.metrics import accuracy_score\n",
    "\n",
    "accuracy_score(y_test, y_pred)"
   ]
  },
  {
   "cell_type": "markdown",
   "id": "94f3f589-52f8-41cb-8ef2-8bc696cdbb39",
   "metadata": {},
   "source": [
    "Попробуем улучшить результат с помощью гипперпараметров"
   ]
  },
  {
   "cell_type": "code",
   "execution_count": 28,
   "id": "9a1b6200-ba42-4b46-930b-073d489238f7",
   "metadata": {},
   "outputs": [
    {
     "name": "stdout",
     "output_type": "stream",
     "text": [
      "Найлучшее качество модели при {'max_depth': 2, 'max_features': 1, 'min_samples_leaf': 2, 'min_samples_split': 2, 'n_estimators': 5}\n",
      "Наилучшая оценка качества модели: 0.8\n"
     ]
    }
   ],
   "source": [
    "rf = RandomForestClassifier()\n",
    "rf_params = {'n_estimators': np.arange(5,41,5), \n",
    "             'max_depth': np.arange(2, 11),\n",
    "             'min_samples_split': np.arange(2, 11), \n",
    "             'min_samples_leaf': np.arange(2, 11), \n",
    "             'max_features': np.arange(1, 4)}\n",
    "rf_grid = GridSearchCV(rf, rf_params, cv=kf, scoring='accuracy', n_jobs = -1)\n",
    "rf_grid.fit(X_train, y_train)\n",
    "print(\"Найлучшее качество модели при\", rf_grid.best_params_)\n",
    "print(\"Наилучшая оценка качества модели:\", rf_grid.best_score_)"
   ]
  },
  {
   "cell_type": "code",
   "execution_count": 35,
   "id": "000c9678-64e6-4419-b511-f4445508c927",
   "metadata": {},
   "outputs": [
    {
     "name": "stdout",
     "output_type": "stream",
     "text": [
      "digraph Tree {\n",
      "node [shape=box, fontname=\"helvetica\"] ;\n",
      "edge [fontname=\"helvetica\"] ;\n",
      "0 [label=\"history <= 2.5\\ngini = 0.278\\nsamples = 6\\nvalue = [5, 1]\"] ;\n",
      "1 [label=\"gini = 0.0\\nsamples = 4\\nvalue = [4, 0]\"] ;\n",
      "0 -> 1 [labeldistance=2.5, labelangle=45, headlabel=\"True\"] ;\n",
      "2 [label=\"gini = 0.5\\nsamples = 2\\nvalue = [1, 1]\"] ;\n",
      "0 -> 2 [labeldistance=2.5, labelangle=-45, headlabel=\"False\"] ;\n",
      "}\n"
     ]
    }
   ],
   "source": [
    "rf = RandomForestClassifier(n_estimators= 5, \n",
    "                            max_depth=2, \n",
    "                            min_samples_split=2, \n",
    "                            min_samples_leaf=2, \n",
    "                            max_features=1)\n",
    "\n",
    "rf.fit(X_train, y_train)\n",
    "estimator = rf.estimators_[3]\n",
    "\n",
    "export_graphviz(estimator, out_file='tree_from_rf.dot', feature_names = X.columns)\n",
    "\n",
    "export_graphviz(tree, out_file='tree_from_rf.dot', feature_names=X.columns)\n",
    "print(open('tree_from_rf.dot').read())"
   ]
  },
  {
   "cell_type": "markdown",
   "id": "7b3655dc-d867-4ba3-9e1d-d86b19016e10",
   "metadata": {},
   "source": [
    "![](https://dreampuf.github.io/GraphvizOnline/#digraph%20Tree%20%7B%0Anode%20%5Bshape%3Dbox%2C%20fontname%3D%22helvetica%22%5D%20%3B%0Aedge%20%5Bfontname%3D%22helvetica%22%5D%20%3B%0A0%20%5Blabel%3D%22history%20%3C%3D%202.5%5Cngini%20%3D%200.278%5Cnsamples%20%3D%206%5Cnvalue%20%3D%20%5B5%2C%201%5D%22%5D%20%3B%0A1%20%5Blabel%3D%22gini%20%3D%200.0%5Cnsamples%20%3D%204%5Cnvalue%20%3D%20%5B4%2C%200%5D%22%5D%20%3B%0A0%20-%3E%201%20%5Blabeldistance%3D2.5%2C%20labelangle%3D45%2C%20headlabel%3D%22True%22%5D%20%3B%0A2%20%5Blabel%3D%22gini%20%3D%200.5%5Cnsamples%20%3D%202%5Cnvalue%20%3D%20%5B1%2C%201%5D%22%5D%20%3B%0A0%20-%3E%202%20%5Blabeldistance%3D2.5%2C%20labelangle%3D-45%2C%20headlabel%3D%22False%22%5D%20%3B%0A%7D)"
   ]
  },
  {
   "cell_type": "code",
   "execution_count": 36,
   "id": "07aecb11-fcb0-41e0-b317-465be3d17bbb",
   "metadata": {},
   "outputs": [
    {
     "data": {
      "image/png": "[encoded data removed]",
      "text/plain": [
       "<Figure size 1080x360 with 1 Axes>"
      ]
     },
     "metadata": {},
     "output_type": "display_data"
    }
   ],
   "source": [
    "plt.figure(figsize=(15,5))\n",
    "plt.title(\"Feature importances\")\n",
    "bars = plt.bar(range(num_to_plot), \n",
    "               importances[indices[:num_to_plot]],\n",
    "               color=([str(i / float(num_to_plot +  1)) for i in range(num_to_plot)]),\n",
    "               align=\"center\")\n",
    "ticks = plt.xticks(range(num_to_plot), \n",
    "                   feature_indices)\n",
    "plt.xlim([-1, num_to_plot])\n",
    "plt.legend(bars, [u''.join(features[\"f\" + str(i)]) for i in feature_indices]);"
   ]
  },
  {
   "cell_type": "code",
   "execution_count": null,
   "id": "c3d0cf3c-f115-4e17-af18-2c5453e681c7",
   "metadata": {},
   "outputs": [],
   "source": []
  }
 ],
 "metadata": {
  "kernelspec": {
   "display_name": "Python 3 (ipykernel)",
   "language": "python",
   "name": "python3"
  },
  "language_info": {
   "codemirror_mode": {
    "name": "ipython",
    "version": 3
   },
   "file_extension": ".py",
   "mimetype": "text/x-python",
   "name": "python",
   "nbconvert_exporter": "python",
   "pygments_lexer": "ipython3",
   "version": "3.8.0"
  }
 },
 "nbformat": 4,
 "nbformat_minor": 5
}
