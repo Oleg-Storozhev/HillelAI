{
 "cells": [
  {
   "cell_type": "markdown",
   "id": "fa734e82-9287-4f3d-81c0-5c22e90e1022",
   "metadata": {},
   "source": [
    "Decision trees "
   ]
  },
  {
   "cell_type": "code",
   "execution_count": null,
   "id": "ec54872b-33e2-49d0-8af6-a178795c2c01",
   "metadata": {},
   "outputs": [],
   "source": []
  }
 ],
 "metadata": {
  "kernelspec": {
   "display_name": "Python 3 (ipykernel)",
   "language": "python",
   "name": "python3"
  },
  "language_info": {
   "codemirror_mode": {
    "name": "ipython",
    "version": 3
   },
   "file_extension": ".py",
   "mimetype": "text/x-python",
   "name": "python",
   "nbconvert_exporter": "python",
   "pygments_lexer": "ipython3",
   "version": "3.8.0"
  }
 },
 "nbformat": 4,
 "nbformat_minor": 5
}
