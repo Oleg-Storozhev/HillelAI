{
 "cells": [
  {
   "cell_type": "code",
   "execution_count": 1,
   "id": "b3501c95-a6b7-4a88-b19b-4c5097f2bd12",
   "metadata": {},
   "outputs": [],
   "source": [
    "import numpy as np\n",
    "import pandas as pd\n",
    "import matplotlib.pyplot as plt\n",
    "import seaborn as sns\n",
    "from scipy.stats import linregress\n",
    "sns.set(rc={'figure.figsize':(10, 8)})"
   ]
  },
  {
   "cell_type": "code",
   "execution_count": 3,
   "id": "9d9cb0d7-8a69-4ee8-8d64-1d87498b954f",
   "metadata": {},
   "outputs": [
    {
     "data": {
      "text/html": [
       "<div>\n",
       "<style scoped>\n",
       "    .dataframe tbody tr th:only-of-type {\n",
       "        vertical-align: middle;\n",
       "    }\n",
       "\n",
       "    .dataframe tbody tr th {\n",
       "        vertical-align: top;\n",
       "    }\n",
       "\n",
       "    .dataframe thead th {\n",
       "        text-align: right;\n",
       "    }\n",
       "</style>\n",
       "<table border=\"1\" class=\"dataframe\">\n",
       "  <thead>\n",
       "    <tr style=\"text-align: right;\">\n",
       "      <th></th>\n",
       "      <th>Pregnancies</th>\n",
       "      <th>Glucose</th>\n",
       "      <th>BloodPressure</th>\n",
       "      <th>SkinThickness</th>\n",
       "      <th>Insulin</th>\n",
       "      <th>BMI</th>\n",
       "      <th>DiabetesPedigreeFunction</th>\n",
       "      <th>Age</th>\n",
       "      <th>Class</th>\n",
       "    </tr>\n",
       "  </thead>\n",
       "  <tbody>\n",
       "    <tr>\n",
       "      <th>0</th>\n",
       "      <td>6</td>\n",
       "      <td>148</td>\n",
       "      <td>72</td>\n",
       "      <td>35</td>\n",
       "      <td>0</td>\n",
       "      <td>33.6</td>\n",
       "      <td>0.627</td>\n",
       "      <td>50</td>\n",
       "      <td>1</td>\n",
       "    </tr>\n",
       "    <tr>\n",
       "      <th>1</th>\n",
       "      <td>1</td>\n",
       "      <td>85</td>\n",
       "      <td>66</td>\n",
       "      <td>29</td>\n",
       "      <td>0</td>\n",
       "      <td>26.6</td>\n",
       "      <td>0.351</td>\n",
       "      <td>31</td>\n",
       "      <td>0</td>\n",
       "    </tr>\n",
       "    <tr>\n",
       "      <th>2</th>\n",
       "      <td>8</td>\n",
       "      <td>183</td>\n",
       "      <td>64</td>\n",
       "      <td>0</td>\n",
       "      <td>0</td>\n",
       "      <td>23.3</td>\n",
       "      <td>0.672</td>\n",
       "      <td>32</td>\n",
       "      <td>1</td>\n",
       "    </tr>\n",
       "    <tr>\n",
       "      <th>3</th>\n",
       "      <td>1</td>\n",
       "      <td>89</td>\n",
       "      <td>66</td>\n",
       "      <td>23</td>\n",
       "      <td>94</td>\n",
       "      <td>28.1</td>\n",
       "      <td>0.167</td>\n",
       "      <td>21</td>\n",
       "      <td>0</td>\n",
       "    </tr>\n",
       "    <tr>\n",
       "      <th>4</th>\n",
       "      <td>0</td>\n",
       "      <td>137</td>\n",
       "      <td>40</td>\n",
       "      <td>35</td>\n",
       "      <td>168</td>\n",
       "      <td>43.1</td>\n",
       "      <td>2.288</td>\n",
       "      <td>33</td>\n",
       "      <td>1</td>\n",
       "    </tr>\n",
       "    <tr>\n",
       "      <th>...</th>\n",
       "      <td>...</td>\n",
       "      <td>...</td>\n",
       "      <td>...</td>\n",
       "      <td>...</td>\n",
       "      <td>...</td>\n",
       "      <td>...</td>\n",
       "      <td>...</td>\n",
       "      <td>...</td>\n",
       "      <td>...</td>\n",
       "    </tr>\n",
       "    <tr>\n",
       "      <th>763</th>\n",
       "      <td>10</td>\n",
       "      <td>101</td>\n",
       "      <td>76</td>\n",
       "      <td>48</td>\n",
       "      <td>180</td>\n",
       "      <td>32.9</td>\n",
       "      <td>0.171</td>\n",
       "      <td>63</td>\n",
       "      <td>0</td>\n",
       "    </tr>\n",
       "    <tr>\n",
       "      <th>764</th>\n",
       "      <td>2</td>\n",
       "      <td>122</td>\n",
       "      <td>70</td>\n",
       "      <td>27</td>\n",
       "      <td>0</td>\n",
       "      <td>36.8</td>\n",
       "      <td>0.340</td>\n",
       "      <td>27</td>\n",
       "      <td>0</td>\n",
       "    </tr>\n",
       "    <tr>\n",
       "      <th>765</th>\n",
       "      <td>5</td>\n",
       "      <td>121</td>\n",
       "      <td>72</td>\n",
       "      <td>23</td>\n",
       "      <td>112</td>\n",
       "      <td>26.2</td>\n",
       "      <td>0.245</td>\n",
       "      <td>30</td>\n",
       "      <td>0</td>\n",
       "    </tr>\n",
       "    <tr>\n",
       "      <th>766</th>\n",
       "      <td>1</td>\n",
       "      <td>126</td>\n",
       "      <td>60</td>\n",
       "      <td>0</td>\n",
       "      <td>0</td>\n",
       "      <td>30.1</td>\n",
       "      <td>0.349</td>\n",
       "      <td>47</td>\n",
       "      <td>1</td>\n",
       "    </tr>\n",
       "    <tr>\n",
       "      <th>767</th>\n",
       "      <td>1</td>\n",
       "      <td>93</td>\n",
       "      <td>70</td>\n",
       "      <td>31</td>\n",
       "      <td>0</td>\n",
       "      <td>30.4</td>\n",
       "      <td>0.315</td>\n",
       "      <td>23</td>\n",
       "      <td>0</td>\n",
       "    </tr>\n",
       "  </tbody>\n",
       "</table>\n",
       "<p>768 rows × 9 columns</p>\n",
       "</div>"
      ],
      "text/plain": [
       "     Pregnancies  Glucose  BloodPressure  SkinThickness  Insulin   BMI  \\\n",
       "0              6      148             72             35        0  33.6   \n",
       "1              1       85             66             29        0  26.6   \n",
       "2              8      183             64              0        0  23.3   \n",
       "3              1       89             66             23       94  28.1   \n",
       "4              0      137             40             35      168  43.1   \n",
       "..           ...      ...            ...            ...      ...   ...   \n",
       "763           10      101             76             48      180  32.9   \n",
       "764            2      122             70             27        0  36.8   \n",
       "765            5      121             72             23      112  26.2   \n",
       "766            1      126             60              0        0  30.1   \n",
       "767            1       93             70             31        0  30.4   \n",
       "\n",
       "     DiabetesPedigreeFunction  Age  Class  \n",
       "0                       0.627   50      1  \n",
       "1                       0.351   31      0  \n",
       "2                       0.672   32      1  \n",
       "3                       0.167   21      0  \n",
       "4                       2.288   33      1  \n",
       "..                        ...  ...    ...  \n",
       "763                     0.171   63      0  \n",
       "764                     0.340   27      0  \n",
       "765                     0.245   30      0  \n",
       "766                     0.349   47      1  \n",
       "767                     0.315   23      0  \n",
       "\n",
       "[768 rows x 9 columns]"
      ]
     },
     "execution_count": 3,
     "metadata": {},
     "output_type": "execute_result"
    }
   ],
   "source": [
    "df = pd.read_csv('diabetes.csv', sep =',')\n",
    "df"
   ]
  },
  {
   "cell_type": "markdown",
   "id": "3f616ba1-6ce4-4de7-8e66-9008dd2a7b46",
   "metadata": {},
   "source": [
    "    1.АНАЛИЗ датасета"
   ]
  },
  {
   "cell_type": "code",
   "execution_count": 6,
   "id": "be44ad78-d43e-4dc5-9ac2-3a48e2bc55f4",
   "metadata": {},
   "outputs": [
    {
     "data": {
      "text/html": [
       "<div>\n",
       "<style scoped>\n",
       "    .dataframe tbody tr th:only-of-type {\n",
       "        vertical-align: middle;\n",
       "    }\n",
       "\n",
       "    .dataframe tbody tr th {\n",
       "        vertical-align: top;\n",
       "    }\n",
       "\n",
       "    .dataframe thead th {\n",
       "        text-align: right;\n",
       "    }\n",
       "</style>\n",
       "<table border=\"1\" class=\"dataframe\">\n",
       "  <thead>\n",
       "    <tr style=\"text-align: right;\">\n",
       "      <th></th>\n",
       "      <th>count</th>\n",
       "      <th>mean</th>\n",
       "      <th>std</th>\n",
       "      <th>min</th>\n",
       "      <th>25%</th>\n",
       "      <th>50%</th>\n",
       "      <th>75%</th>\n",
       "      <th>max</th>\n",
       "    </tr>\n",
       "  </thead>\n",
       "  <tbody>\n",
       "    <tr>\n",
       "      <th>Pregnancies</th>\n",
       "      <td>768.0</td>\n",
       "      <td>3.845052</td>\n",
       "      <td>3.369578</td>\n",
       "      <td>0.000</td>\n",
       "      <td>1.00000</td>\n",
       "      <td>3.0000</td>\n",
       "      <td>6.00000</td>\n",
       "      <td>17.00</td>\n",
       "    </tr>\n",
       "    <tr>\n",
       "      <th>Glucose</th>\n",
       "      <td>768.0</td>\n",
       "      <td>120.894531</td>\n",
       "      <td>31.972618</td>\n",
       "      <td>0.000</td>\n",
       "      <td>99.00000</td>\n",
       "      <td>117.0000</td>\n",
       "      <td>140.25000</td>\n",
       "      <td>199.00</td>\n",
       "    </tr>\n",
       "    <tr>\n",
       "      <th>BloodPressure</th>\n",
       "      <td>768.0</td>\n",
       "      <td>69.105469</td>\n",
       "      <td>19.355807</td>\n",
       "      <td>0.000</td>\n",
       "      <td>62.00000</td>\n",
       "      <td>72.0000</td>\n",
       "      <td>80.00000</td>\n",
       "      <td>122.00</td>\n",
       "    </tr>\n",
       "    <tr>\n",
       "      <th>SkinThickness</th>\n",
       "      <td>768.0</td>\n",
       "      <td>20.536458</td>\n",
       "      <td>15.952218</td>\n",
       "      <td>0.000</td>\n",
       "      <td>0.00000</td>\n",
       "      <td>23.0000</td>\n",
       "      <td>32.00000</td>\n",
       "      <td>99.00</td>\n",
       "    </tr>\n",
       "    <tr>\n",
       "      <th>Insulin</th>\n",
       "      <td>768.0</td>\n",
       "      <td>79.799479</td>\n",
       "      <td>115.244002</td>\n",
       "      <td>0.000</td>\n",
       "      <td>0.00000</td>\n",
       "      <td>30.5000</td>\n",
       "      <td>127.25000</td>\n",
       "      <td>846.00</td>\n",
       "    </tr>\n",
       "    <tr>\n",
       "      <th>BMI</th>\n",
       "      <td>768.0</td>\n",
       "      <td>31.992578</td>\n",
       "      <td>7.884160</td>\n",
       "      <td>0.000</td>\n",
       "      <td>27.30000</td>\n",
       "      <td>32.0000</td>\n",
       "      <td>36.60000</td>\n",
       "      <td>67.10</td>\n",
       "    </tr>\n",
       "    <tr>\n",
       "      <th>DiabetesPedigreeFunction</th>\n",
       "      <td>768.0</td>\n",
       "      <td>0.471876</td>\n",
       "      <td>0.331329</td>\n",
       "      <td>0.078</td>\n",
       "      <td>0.24375</td>\n",
       "      <td>0.3725</td>\n",
       "      <td>0.62625</td>\n",
       "      <td>2.42</td>\n",
       "    </tr>\n",
       "    <tr>\n",
       "      <th>Age</th>\n",
       "      <td>768.0</td>\n",
       "      <td>33.240885</td>\n",
       "      <td>11.760232</td>\n",
       "      <td>21.000</td>\n",
       "      <td>24.00000</td>\n",
       "      <td>29.0000</td>\n",
       "      <td>41.00000</td>\n",
       "      <td>81.00</td>\n",
       "    </tr>\n",
       "    <tr>\n",
       "      <th>Class</th>\n",
       "      <td>768.0</td>\n",
       "      <td>0.348958</td>\n",
       "      <td>0.476951</td>\n",
       "      <td>0.000</td>\n",
       "      <td>0.00000</td>\n",
       "      <td>0.0000</td>\n",
       "      <td>1.00000</td>\n",
       "      <td>1.00</td>\n",
       "    </tr>\n",
       "  </tbody>\n",
       "</table>\n",
       "</div>"
      ],
      "text/plain": [
       "                          count        mean         std     min       25%  \\\n",
       "Pregnancies               768.0    3.845052    3.369578   0.000   1.00000   \n",
       "Glucose                   768.0  120.894531   31.972618   0.000  99.00000   \n",
       "BloodPressure             768.0   69.105469   19.355807   0.000  62.00000   \n",
       "SkinThickness             768.0   20.536458   15.952218   0.000   0.00000   \n",
       "Insulin                   768.0   79.799479  115.244002   0.000   0.00000   \n",
       "BMI                       768.0   31.992578    7.884160   0.000  27.30000   \n",
       "DiabetesPedigreeFunction  768.0    0.471876    0.331329   0.078   0.24375   \n",
       "Age                       768.0   33.240885   11.760232  21.000  24.00000   \n",
       "Class                     768.0    0.348958    0.476951   0.000   0.00000   \n",
       "\n",
       "                               50%        75%     max  \n",
       "Pregnancies                 3.0000    6.00000   17.00  \n",
       "Glucose                   117.0000  140.25000  199.00  \n",
       "BloodPressure              72.0000   80.00000  122.00  \n",
       "SkinThickness              23.0000   32.00000   99.00  \n",
       "Insulin                    30.5000  127.25000  846.00  \n",
       "BMI                        32.0000   36.60000   67.10  \n",
       "DiabetesPedigreeFunction    0.3725    0.62625    2.42  \n",
       "Age                        29.0000   41.00000   81.00  \n",
       "Class                       0.0000    1.00000    1.00  "
      ]
     },
     "execution_count": 6,
     "metadata": {},
     "output_type": "execute_result"
    }
   ],
   "source": [
    "df.describe(include = \"all\").T"
   ]
  },
  {
   "cell_type": "code",
   "execution_count": 5,
   "id": "0577a72a-2055-47fd-b7e1-d469c9539769",
   "metadata": {},
   "outputs": [
    {
     "name": "stdout",
     "output_type": "stream",
     "text": [
      "<class 'pandas.core.frame.DataFrame'>\n",
      "RangeIndex: 768 entries, 0 to 767\n",
      "Data columns (total 9 columns):\n",
      " #   Column                    Non-Null Count  Dtype  \n",
      "---  ------                    --------------  -----  \n",
      " 0   Pregnancies               768 non-null    int64  \n",
      " 1   Glucose                   768 non-null    int64  \n",
      " 2   BloodPressure             768 non-null    int64  \n",
      " 3   SkinThickness             768 non-null    int64  \n",
      " 4   Insulin                   768 non-null    int64  \n",
      " 5   BMI                       768 non-null    float64\n",
      " 6   DiabetesPedigreeFunction  768 non-null    float64\n",
      " 7   Age                       768 non-null    int64  \n",
      " 8   Class                     768 non-null    int64  \n",
      "dtypes: float64(2), int64(7)\n",
      "memory usage: 54.1 KB\n"
     ]
    }
   ],
   "source": [
    "df.info()"
   ]
  },
  {
   "cell_type": "code",
   "execution_count": 31,
   "id": "3d8a3be4-bdf5-4f70-936d-ee7953981bc9",
   "metadata": {},
   "outputs": [
    {
     "data": {
      "text/plain": [
       "Pregnancies                 268\n",
       "Glucose                     268\n",
       "BloodPressure               268\n",
       "SkinThickness               268\n",
       "Insulin                     268\n",
       "BMI                         268\n",
       "DiabetesPedigreeFunction    268\n",
       "Age                         268\n",
       "Class                       268\n",
       "dtype: int64"
      ]
     },
     "execution_count": 31,
     "metadata": {},
     "output_type": "execute_result"
    }
   ],
   "source": [
    "df[df[\"Class\"] == 1].count()"
   ]
  },
  {
   "cell_type": "markdown",
   "id": "77b2d43e-b7fe-4e2f-aa6e-ecf67db5e6ee",
   "metadata": {},
   "source": [
    "Цель - узнать есть ли у человека деабет или нет.\n",
    "\n",
    "Target - Class.\n",
    "\n",
    "Задача классификации"
   ]
  },
  {
   "cell_type": "markdown",
   "id": "fc04dde3-9d9a-423d-b464-b37bcf246075",
   "metadata": {},
   "source": [
    "    2. Подготовка данных для обучения"
   ]
  },
  {
   "cell_type": "code",
   "execution_count": 9,
   "id": "593f3d80-48bf-4f26-b9db-4411c2e060de",
   "metadata": {},
   "outputs": [],
   "source": [
    "X = df.drop(columns = ['Class'])  # Все кроме target\n",
    "y = df.Class  # target"
   ]
  },
  {
   "cell_type": "code",
   "execution_count": 19,
   "id": "092efcd9-620d-4695-989e-5925f20d458f",
   "metadata": {},
   "outputs": [],
   "source": [
    "from sklearn.model_selection import train_test_split\n",
    "\n",
    "X_train, X_test, y_train, y_test = train_test_split(X, y, test_size=0.2, random_state=42)"
   ]
  },
  {
   "cell_type": "markdown",
   "id": "56d2f252-886b-4a5e-ad43-f0dd4a8de8e2",
   "metadata": {},
   "source": [
    "    3. Постройка Деревьев (без гипперпараметров)"
   ]
  },
  {
   "cell_type": "code",
   "execution_count": 67,
   "id": "315d7328-c80a-4063-aa96-91b4ee62817c",
   "metadata": {},
   "outputs": [
    {
     "data": {
      "text/plain": [
       "0.7467532467532467"
      ]
     },
     "execution_count": 67,
     "metadata": {},
     "output_type": "execute_result"
    }
   ],
   "source": [
    "from sklearn.tree import DecisionTreeClassifier\n",
    "from sklearn.metrics import accuracy_score\n",
    "\n",
    "tree = DecisionTreeClassifier(random_state=42)\n",
    "tree.fit(X_train, y_train)\n",
    "y_pred = tree.predict(X_test)\n",
    "accuracy_score(y_test, y_pred)"
   ]
  },
  {
   "cell_type": "markdown",
   "id": "da5238af-e787-4843-8311-859f8aa140cb",
   "metadata": {},
   "source": [
    "    Посмотрим как ведет себя наша программа на разных метриках"
   ]
  },
  {
   "cell_type": "code",
   "execution_count": 55,
   "id": "0bcaf68b-8dcc-45c5-8e7c-326797624147",
   "metadata": {},
   "outputs": [
    {
     "name": "stdout",
     "output_type": "stream",
     "text": [
      "Accurancy\n",
      "Массив значений метрики: [0.74675325 0.72077922 0.72727273 0.71895425 0.7254902 ]\n",
      "Средняя метрика на кросс-валидации: 0.7278499278499279\n",
      "F1\n",
      "Массив значений метрики: [0.67226891 0.55670103 0.63157895 0.55670103 0.625     ]\n",
      "Средняя метрика на кросс-валидации: 0.6084499833574233\n",
      "Recall\n",
      "Массив значений метрики: [0.72727273 0.57446809 0.59016393 0.57446809 0.60344828]\n",
      "Средняя метрика на кросс-валидации: 0.6139642215547584\n",
      "Precision\n",
      "Массив значений метрики: [0.625      0.54       0.67924528 0.54       0.64814815]\n",
      "Средняя метрика на кросс-валидации: 0.6064786862334032\n",
      "ROC AUC\n",
      "Массив значений метрики: [0.74242424 0.67975741 0.70368412 0.67874348 0.70172414]\n",
      "Средняя метрика на кросс-валидации: 0.7012666763321309\n"
     ]
    }
   ],
   "source": [
    "from sklearn.model_selection import KFold\n",
    "from sklearn.model_selection import cross_val_score\n",
    "\n",
    "kf = KFold(n_splits=5, shuffle=True, random_state=42)\n",
    "tree = DecisionTreeClassifier(random_state=42)\n",
    "\n",
    "scores = cross_val_score(tree, X, y, cv=kf, scoring='accuracy')\n",
    "print(\"Accurancy\")\n",
    "print('Массив значений метрики:', scores)\n",
    "print('Средняя метрика на кросс-валидации:', np.mean(scores))\n",
    "\n",
    "scores = cross_val_score(tree, X, y, cv=kf, scoring='f1')\n",
    "print(\"F1\")\n",
    "print('Массив значений метрики:', scores)\n",
    "print('Средняя метрика на кросс-валидации:', np.mean(scores))\n",
    "\n",
    "scores = cross_val_score(tree, X, y, cv=kf, scoring='recall')\n",
    "print(\"Recall\")\n",
    "print('Массив значений метрики:', scores)\n",
    "print('Средняя метрика на кросс-валидации:', np.mean(scores))\n",
    "\n",
    "scores = cross_val_score(tree, X, y, cv=kf, scoring='precision')\n",
    "print(\"Precision\")\n",
    "print('Массив значений метрики:', scores)\n",
    "print('Средняя метрика на кросс-валидации:', np.mean(scores))\n",
    "\n",
    "scores = cross_val_score(tree, X, y, cv=kf, scoring='roc_auc')\n",
    "print(\"ROC AUC\")\n",
    "print('Массив значений метрики:', scores)\n",
    "print('Средняя метрика на кросс-валидации:', np.mean(scores))"
   ]
  },
  {
   "cell_type": "markdown",
   "id": "48aa4ba4-dde7-42ff-9142-56bfa387c0a1",
   "metadata": {},
   "source": [
    "Анализируя все выше, можем увидеть что: \n",
    "\n",
    "    - У нас правильно диагнозирован (или не диагнозирован) диабет у 72.85% людей в среднем. Цифры меняются от 71 до 74%\n",
    "    - Из всего того, что наша программа правильно указала, что у пациента есть деабет в среднем равна 61.39%.\n",
    "    - Способность алгоритма обнаружить диабет равна, в среднем, 60.64%"
   ]
  },
  {
   "cell_type": "markdown",
   "id": "867ac93b-828c-4407-a4f1-dcfacf89de66",
   "metadata": {},
   "source": [
    "    4. Нахождение гипперпараметров для деревьев"
   ]
  },
  {
   "cell_type": "code",
   "execution_count": 61,
   "id": "d31d17ed-52ae-44a3-b122-3767bb5ae6d0",
   "metadata": {},
   "outputs": [
    {
     "name": "stdout",
     "output_type": "stream",
     "text": [
      "Найлучшее качество модели при {'max_depth': 7, 'max_features': 8, 'min_samples_leaf': 8, 'min_samples_split': 17}\n",
      "Наилучшая оценка качества модели: 0.7622417699586832\n"
     ]
    }
   ],
   "source": [
    "from sklearn.model_selection import GridSearchCV\n",
    "\n",
    "tree = DecisionTreeClassifier(random_state=42)\n",
    "tree_params={'max_depth': np.arange(2, 11), 'min_samples_split': np.arange(2,21), 'min_samples_leaf': np.arange(2,11), 'max_features': np.arange(1,9)} # словарь параметров (ключ: набор возможных значений)\n",
    "\n",
    "tree_grid = GridSearchCV(tree, tree_params, cv=kf, scoring='accuracy', n_jobs = -1)\n",
    "tree_grid.fit(X_train, y_train)\n",
    "print(\"Найлучшее качество модели при\", tree_grid.best_params_)\n",
    "print(\"Наилучшая оценка качества модели:\", tree_grid.best_score_)"
   ]
  },
  {
   "cell_type": "code",
   "execution_count": 63,
   "id": "27ccde49-238f-475f-9839-6d507f64e436",
   "metadata": {},
   "outputs": [
    {
     "name": "stdout",
     "output_type": "stream",
     "text": [
      "Accurancy\n",
      "Массив значений метрики: [0.77272727 0.74675325 0.72077922 0.75816993 0.77777778]\n",
      "Средняя метрика на кросс-валидации: 0.7552414905356082\n",
      "F1\n",
      "Массив значений метрики: [0.69026549 0.58064516 0.53763441 0.54320988 0.70175439]\n",
      "Средняя метрика на кросс-валидации: 0.6107018638252518\n",
      "Recall\n",
      "Массив значений метрики: [0.70909091 0.57446809 0.40983607 0.46808511 0.68965517]\n",
      "Средняя метрика на кросс-валидации: 0.570227067713567\n",
      "Precision\n",
      "Массив значений метрики: [0.67241379 0.58695652 0.78125    0.64705882 0.71428571]\n",
      "Средняя метрика на кросс-валидации: 0.680392970531541\n",
      "ROC AUC\n",
      "Массив значений метрики: [0.79458219 0.75183933 0.76996298 0.82125652 0.82522686]\n",
      "Средняя метрика на кросс-валидации: 0.792573576730789\n"
     ]
    }
   ],
   "source": [
    "kf = KFold(n_splits=5, shuffle=True, random_state=42)\n",
    "tree = DecisionTreeClassifier(max_depth = 7, max_features = 8, min_samples_leaf = 8, min_samples_split = 17, random_state=42)\n",
    "\n",
    "scores = cross_val_score(tree, X, y, cv=kf, scoring='accuracy')\n",
    "print(\"Accurancy\")\n",
    "print('Массив значений метрики:', scores)\n",
    "print('Средняя метрика на кросс-валидации:', np.mean(scores))\n",
    "\n",
    "scores = cross_val_score(tree, X, y, cv=kf, scoring='f1')\n",
    "print(\"F1\")\n",
    "print('Массив значений метрики:', scores)\n",
    "print('Средняя метрика на кросс-валидации:', np.mean(scores))\n",
    "\n",
    "scores = cross_val_score(tree, X, y, cv=kf, scoring='recall')\n",
    "print(\"Recall\")\n",
    "print('Массив значений метрики:', scores)\n",
    "print('Средняя метрика на кросс-валидации:', np.mean(scores))\n",
    "\n",
    "scores = cross_val_score(tree, X, y, cv=kf, scoring='precision')\n",
    "print(\"Precision\")\n",
    "print('Массив значений метрики:', scores)\n",
    "print('Средняя метрика на кросс-валидации:', np.mean(scores))\n",
    "\n",
    "scores = cross_val_score(tree, X, y, cv=kf, scoring='roc_auc')\n",
    "print(\"ROC AUC\")\n",
    "print('Массив значений метрики:', scores)\n",
    "print('Средняя метрика на кросс-валидации:', np.mean(scores))"
   ]
  },
  {
   "cell_type": "markdown",
   "id": "56467673-5b89-427d-a6ba-13d7d98b1da1",
   "metadata": {},
   "source": [
    "    5. Рисуем дерево"
   ]
  },
  {
   "cell_type": "code",
   "execution_count": 64,
   "id": "5c2a0caf-df3f-40c7-9eb1-f5197076afff",
   "metadata": {},
   "outputs": [
    {
     "name": "stdout",
     "output_type": "stream",
     "text": [
      "digraph Tree {\n",
      "node [shape=box, fontname=\"helvetica\"] ;\n",
      "edge [fontname=\"helvetica\"] ;\n",
      "0 [label=\"Age <= 28.5\\ngini = 0.453\\nsamples = 614\\nvalue = [401, 213]\"] ;\n",
      "1 [label=\"Glucose <= 127.5\\ngini = 0.304\\nsamples = 300\\nvalue = [244, 56]\"] ;\n",
      "0 -> 1 [labeldistance=2.5, labelangle=45, headlabel=\"True\"] ;\n",
      "2 [label=\"BMI <= 30.95\\ngini = 0.142\\nsamples = 221\\nvalue = [204, 17]\"] ;\n",
      "1 -> 2 ;\n",
      "3 [label=\"Pregnancies <= 2.5\\ngini = 0.016\\nsamples = 124\\nvalue = [123, 1]\"] ;\n",
      "2 -> 3 ;\n",
      "4 [label=\"gini = 0.0\\nsamples = 96\\nvalue = [96, 0]\"] ;\n",
      "3 -> 4 ;\n",
      "5 [label=\"DiabetesPedigreeFunction <= 0.437\\ngini = 0.069\\nsamples = 28\\nvalue = [27, 1]\"] ;\n",
      "3 -> 5 ;\n",
      "6 [label=\"gini = 0.0\\nsamples = 24\\nvalue = [24, 0]\"] ;\n",
      "5 -> 6 ;\n",
      "7 [label=\"gini = 0.375\\nsamples = 4\\nvalue = [3, 1]\"] ;\n",
      "5 -> 7 ;\n",
      "8 [label=\"BloodPressure <= 53.0\\ngini = 0.275\\nsamples = 97\\nvalue = [81, 16]\"] ;\n",
      "2 -> 8 ;\n",
      "9 [label=\"gini = 0.494\\nsamples = 9\\nvalue = [5, 4]\"] ;\n",
      "8 -> 9 ;\n",
      "10 [label=\"DiabetesPedigreeFunction <= 0.501\\ngini = 0.236\\nsamples = 88\\nvalue = [76, 12]\"] ;\n",
      "8 -> 10 ;\n",
      "11 [label=\"gini = 0.101\\nsamples = 56\\nvalue = [53, 3]\"] ;\n",
      "10 -> 11 ;\n",
      "12 [label=\"gini = 0.404\\nsamples = 32\\nvalue = [23, 9]\"] ;\n",
      "10 -> 12 ;\n",
      "13 [label=\"Glucose <= 165.5\\ngini = 0.5\\nsamples = 79\\nvalue = [40, 39]\"] ;\n",
      "1 -> 13 ;\n",
      "14 [label=\"BMI <= 29.95\\ngini = 0.475\\nsamples = 62\\nvalue = [38, 24]\"] ;\n",
      "13 -> 14 ;\n",
      "15 [label=\"Pregnancies <= 1.5\\ngini = 0.308\\nsamples = 21\\nvalue = [17, 4]\"] ;\n",
      "14 -> 15 ;\n",
      "16 [label=\"gini = 0.0\\nsamples = 10\\nvalue = [10, 0]\"] ;\n",
      "15 -> 16 ;\n",
      "17 [label=\"gini = 0.463\\nsamples = 11\\nvalue = [7, 4]\"] ;\n",
      "15 -> 17 ;\n",
      "18 [label=\"BloodPressure <= 61.0\\ngini = 0.5\\nsamples = 41\\nvalue = [21, 20]\"] ;\n",
      "14 -> 18 ;\n",
      "19 [label=\"gini = 0.0\\nsamples = 7\\nvalue = [0, 7]\"] ;\n",
      "18 -> 19 ;\n",
      "20 [label=\"gini = 0.472\\nsamples = 34\\nvalue = [21, 13]\"] ;\n",
      "18 -> 20 ;\n",
      "21 [label=\"gini = 0.208\\nsamples = 17\\nvalue = [2, 15]\"] ;\n",
      "13 -> 21 ;\n",
      "22 [label=\"Glucose <= 155.5\\ngini = 0.5\\nsamples = 314\\nvalue = [157, 157]\"] ;\n",
      "0 -> 22 [labeldistance=2.5, labelangle=-45, headlabel=\"False\"] ;\n",
      "23 [label=\"Glucose <= 94.5\\ngini = 0.483\\nsamples = 246\\nvalue = [146, 100]\"] ;\n",
      "22 -> 23 ;\n",
      "24 [label=\"Glucose <= 59.0\\ngini = 0.176\\nsamples = 41\\nvalue = [37, 4]\"] ;\n",
      "23 -> 24 ;\n",
      "25 [label=\"gini = 0.48\\nsamples = 5\\nvalue = [3, 2]\"] ;\n",
      "24 -> 25 ;\n",
      "26 [label=\"Pregnancies <= 9.5\\ngini = 0.105\\nsamples = 36\\nvalue = [34, 2]\"] ;\n",
      "24 -> 26 ;\n",
      "27 [label=\"gini = 0.0\\nsamples = 27\\nvalue = [27, 0]\"] ;\n",
      "26 -> 27 ;\n",
      "28 [label=\"gini = 0.346\\nsamples = 9\\nvalue = [7, 2]\"] ;\n",
      "26 -> 28 ;\n",
      "29 [label=\"BMI <= 26.35\\ngini = 0.498\\nsamples = 205\\nvalue = [109, 96]\"] ;\n",
      "23 -> 29 ;\n",
      "30 [label=\"Glucose <= 124.5\\ngini = 0.117\\nsamples = 32\\nvalue = [30, 2]\"] ;\n",
      "29 -> 30 ;\n",
      "31 [label=\"gini = 0.0\\nsamples = 22\\nvalue = [22, 0]\"] ;\n",
      "30 -> 31 ;\n",
      "32 [label=\"gini = 0.32\\nsamples = 10\\nvalue = [8, 2]\"] ;\n",
      "30 -> 32 ;\n",
      "33 [label=\"DiabetesPedigreeFunction <= 0.528\\ngini = 0.496\\nsamples = 173\\nvalue = [79, 94]\"] ;\n",
      "29 -> 33 ;\n",
      "34 [label=\"gini = 0.495\\nsamples = 113\\nvalue = [62, 51]\"] ;\n",
      "33 -> 34 ;\n",
      "35 [label=\"gini = 0.406\\nsamples = 60\\nvalue = [17, 43]\"] ;\n",
      "33 -> 35 ;\n",
      "36 [label=\"BMI <= 28.7\\ngini = 0.271\\nsamples = 68\\nvalue = [11, 57]\"] ;\n",
      "22 -> 36 ;\n",
      "37 [label=\"gini = 0.473\\nsamples = 13\\nvalue = [5, 8]\"] ;\n",
      "36 -> 37 ;\n",
      "38 [label=\"Insulin <= 416.0\\ngini = 0.194\\nsamples = 55\\nvalue = [6, 49]\"] ;\n",
      "36 -> 38 ;\n",
      "39 [label=\"Insulin <= 171.5\\ngini = 0.147\\nsamples = 50\\nvalue = [4, 46]\"] ;\n",
      "38 -> 39 ;\n",
      "40 [label=\"gini = 0.213\\nsamples = 33\\nvalue = [4, 29]\"] ;\n",
      "39 -> 40 ;\n",
      "41 [label=\"gini = 0.0\\nsamples = 17\\nvalue = [0, 17]\"] ;\n",
      "39 -> 41 ;\n",
      "42 [label=\"gini = 0.48\\nsamples = 5\\nvalue = [2, 3]\"] ;\n",
      "38 -> 42 ;\n",
      "}\n"
     ]
    }
   ],
   "source": [
    "from sklearn.tree import export_graphviz\n",
    "\n",
    "tree = DecisionTreeClassifier(max_depth = 5, max_features = 5, min_samples_leaf = 4, min_samples_split = 20, random_state=42)\n",
    "tree.fit(X_train, y_train)\n",
    "\n",
    "export_graphviz(tree, out_file='tree.dot', feature_names=X.columns)\n",
    "print(open('tree.dot').read())"
   ]
  },
  {
   "cell_type": "markdown",
   "id": "e161a270-43ae-436b-b02d-12893dab33e0",
   "metadata": {},
   "source": [
    "![](tree.svg)"
   ]
  },
  {
   "cell_type": "code",
   "execution_count": 65,
   "id": "3acdc5a2-3d64-49ab-9be6-952b8347baf4",
   "metadata": {},
   "outputs": [
    {
     "name": "stdout",
     "output_type": "stream",
     "text": [
      "Feature ranking:\n",
      "1 Glucose 0.4632267121300482\n",
      "2 Age 0.24225501076815548\n",
      "3 BMI 0.1545528941486394\n"
     ]
    }
   ],
   "source": [
    "features = {'f' + str(i + 1):name for (i, name) in zip(range(len(df.columns)), df.columns)}\n",
    "importances = tree.feature_importances_\n",
    "\n",
    "indices = np.argsort(importances)[:: -1]\n",
    "num_to_plot = 3\n",
    "feature_indices = [ind + 1 for ind in indices[:num_to_plot]]\n",
    "\n",
    "print(\"Feature ranking:\")\n",
    "for f in range(num_to_plot):\n",
    "    print(f + 1, features[\"f\" + str(feature_indices[f])], importances[indices[f]])"
   ]
  },
  {
   "cell_type": "code",
   "execution_count": 66,
   "id": "caa37813-9c08-46f6-86f0-e40dcc6d709c",
   "metadata": {},
   "outputs": [
    {
     "data": {
      "image/png": "[encoded data removed]",
      "text/plain": [
       "<Figure size 1080x360 with 1 Axes>"
      ]
     },
     "metadata": {},
     "output_type": "display_data"
    }
   ],
   "source": [
    "plt.figure(figsize=(15,5))\n",
    "plt.title(\"Feature importances\")\n",
    "bars = plt.bar(range(num_to_plot), \n",
    "               importances[indices[:num_to_plot]],\n",
    "               color=([str(i / float(num_to_plot +  1)) for i in range(num_to_plot)]),\n",
    "               align=\"center\")\n",
    "ticks = plt.xticks(range(num_to_plot), \n",
    "                   feature_indices)\n",
    "plt.xlim([-1, num_to_plot])\n",
    "plt.legend(bars, [u''.join(features[\"f\" + str(i)]) for i in feature_indices]);"
   ]
  },
  {
   "cell_type": "markdown",
   "id": "5a3b9d42-dda1-4408-baa7-0dff8def1471",
   "metadata": {},
   "source": [
    "    6 РАНДОМНЫЙ ЛЕС"
   ]
  },
  {
   "cell_type": "code",
   "execution_count": null,
   "id": "dbe01f2f-be81-4bd7-beb8-bb05ec054deb",
   "metadata": {},
   "outputs": [],
   "source": [
    "from sklearn.ensemble import RandomForestClassifier\n",
    "\n",
    "rc = RandomForestClassifier(random_state=42)\n",
    "rc.fit(X_train, y_train)\n",
    "y_pred = rc.predict(X_test)\n",
    "accuracy_score(y_test, y_pred)"
   ]
  },
  {
   "cell_type": "code",
   "execution_count": null,
   "id": "795195be-5f04-4518-901e-6a8d72cb03fa",
   "metadata": {},
   "outputs": [],
   "source": [
    "rf = RandomForestClassifier(random_state=42)\n",
    "rf_params = {'n_estimators': np.arange(100,401,100), \n",
    "             'max_depth': np.arange(2, 11),\n",
    "             'min_samples_split': np.arange(2, 11), \n",
    "             'min_samples_leaf': np.arange(2, 11), \n",
    "             'max_features': np.arange(1, 9)}\n",
    "rf_grid = GridSearchCV(rf, rf_params, cv=kf, scoring='accuracy', n_jobs = -1)\n",
    "rf_grid.fit(X_train, y_train)\n",
    "print(\"Найлучшее качество модели при\", rf_grid.best_params_)\n",
    "print(\"Наилучшая оценка качества модели:\", rf_grid.best_score_)"
   ]
  }
 ],
 "metadata": {
  "kernelspec": {
   "display_name": "Python 3 (ipykernel)",
   "language": "python",
   "name": "python3"
  },
  "language_info": {
   "codemirror_mode": {
    "name": "ipython",
    "version": 3
   },
   "file_extension": ".py",
   "mimetype": "text/x-python",
   "name": "python",
   "nbconvert_exporter": "python",
   "pygments_lexer": "ipython3",
   "version": "3.8.0"
  }
 },
 "nbformat": 4,
 "nbformat_minor": 5
}
